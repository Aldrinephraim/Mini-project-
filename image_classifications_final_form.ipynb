{
  "nbformat": 4,
  "nbformat_minor": 0,
  "metadata": {
    "colab": {
      "name": "image classifications final form.ipynb",
      "provenance": [],
      "authorship_tag": "ABX9TyOAV0V3iqqx2AZRYooz1MF8",
      "include_colab_link": true
    },
    "kernelspec": {
      "name": "python3",
      "display_name": "Python 3"
    },
    "language_info": {
      "name": "python"
    }
  },
  "cells": [
    {
      "cell_type": "markdown",
      "metadata": {
        "id": "view-in-github",
        "colab_type": "text"
      },
      "source": [
        "<a href=\"https://colab.research.google.com/github/Aldrinephraim/Mini-project-/blob/main/image_classifications_final_form.ipynb\" target=\"_parent\"><img src=\"https://colab.research.google.com/assets/colab-badge.svg\" alt=\"Open In Colab\"/></a>"
      ]
    },
    {
      "cell_type": "code",
      "metadata": {
        "colab": {
          "base_uri": "https://localhost:8080/"
        },
        "id": "v1T05nan1RK_",
        "outputId": "b29205ae-3f08-441a-88a0-c054950b0e6b"
      },
      "source": [
        "%mkdir Classification_Images\n",
        "!pip install bing_image_downloader\n",
        "from bing_image_downloader import downloader\n",
        "downloader.download(\"icecream cone\",limit=30, output_dir=\"Classification_Images\",adult_filter_off=True)\n",
        "from bing_image_downloader import downloader\n",
        "downloader.download(\"cute puppy\",limit=30, output_dir=\"Classification_Images\",adult_filter_off=True)\n",
        "from bing_image_downloader import downloader\n",
        "downloader.download(\"red rose\",limit=30, output_dir=\"Classification_Images\",adult_filter_off=True)"
      ],
      "execution_count": null,
      "outputs": [
        {
          "output_type": "stream",
          "text": [
            "Collecting bing_image_downloader\n",
            "  Downloading https://files.pythonhosted.org/packages/c2/04/1872a689a30036aa0b81ac9fca124a7413cad71fdab714f727cf1a34b671/bing_image_downloader-1.1.1-py3-none-any.whl\n",
            "Installing collected packages: bing-image-downloader\n",
            "Successfully installed bing-image-downloader-1.1.1\n",
            "[%] Downloading Images to /content/Classification_Images/icecream cone\n",
            "\n",
            "\n",
            "[!!]Indexing page: 1\n",
            "\n",
            "[%] Indexed 30 Images on Page 1.\n",
            "\n",
            "===============================================\n",
            "\n",
            "[%] Downloading Image #1 from http://graphics8.nytimes.com/images/2013/06/02/magazine/02wmt/02wmt-superJumbo-v3.jpg\n",
            "[%] File Downloaded !\n",
            "\n",
            "[%] Downloading Image #2 from http://cdn-image.myrecipes.com/sites/default/files/ginger-peach-ice-cream-cones-ck.jpg\n",
            "[%] File Downloaded !\n",
            "\n",
            "[%] Downloading Image #3 from https://www.sheknows.com/wp-content/uploads/2018/08/cplmqhrwwtn4mosg7ea8.jpeg?w=555\n",
            "[%] File Downloaded !\n",
            "\n",
            "[%] Downloading Image #4 from https://upload.wikimedia.org/wikipedia/commons/e/ea/Ice_cream_cone_(cropped).jpg\n",
            "[%] File Downloaded !\n",
            "\n",
            "[%] Downloading Image #5 from https://americacomesalive.com/i/waffle-cones-getty.jpg\n",
            "[%] File Downloaded !\n",
            "\n",
            "[%] Downloading Image #6 from http://www.thethings.com/wp-content/uploads/2016/05/9877008d2a0a5412e8bbd7b8ee76e1f8.jpeg\n",
            "[%] File Downloaded !\n",
            "\n",
            "[%] Downloading Image #7 from http://www.postcoder.com.au/wp-content/uploads/2017/10/DSC_0738.jpg?x94432\n",
            "[%] File Downloaded !\n",
            "\n",
            "[%] Downloading Image #8 from https://americacomesalive.com/i/ice-cream-cone.jpg\n",
            "[%] File Downloaded !\n",
            "\n",
            "[%] Downloading Image #9 from https://cdn.ebs.newsner.com/wp-content/uploads/sites/11/2017/09/donutcone.jpg\n",
            "[%] File Downloaded !\n",
            "\n",
            "[%] Downloading Image #10 from https://www.sheknows.com/wp-content/uploads/2018/08/tjyhk2mmmgs6eg1kqsnl.jpeg?w=600\n",
            "[%] File Downloaded !\n",
            "\n",
            "[%] Downloading Image #11 from https://mysunshineroom.com/_Media/dipped-ice-cream-cones-7_med_hr.jpeg\n",
            "[%] File Downloaded !\n",
            "\n",
            "[%] Downloading Image #12 from http://static3.shop033.com/resources/FB/158459/picture/F2/75329778.jpg\n",
            "[%] File Downloaded !\n",
            "\n",
            "[%] Downloading Image #13 from https://s-i.huffpost.com/gen/1315999/images/o-ICE-CREAM-CONES-facebook.jpg\n",
            "[%] File Downloaded !\n",
            "\n",
            "[%] Downloading Image #14 from https://i.pinimg.com/originals/e0/1b/78/e01b78bddf8d19e23fe280c4295f5642.jpg\n",
            "[%] File Downloaded !\n",
            "\n",
            "[%] Downloading Image #15 from https://www.thespruceeats.com/thmb/3zSpyarxfOBVAZS3CNJYOBGk26s=/3000x1687/smart/filters:no_upscale()/IceCreamConeCupcakesHERO-ef1da5f5b4be42129e420ad1b8088b9b.jpg\n",
            "[%] File Downloaded !\n",
            "\n",
            "[%] Downloading Image #16 from https://img1.southernliving.timeinc.net/sites/default/files/styles/4_3_horizontal_-_1200x900/public/image/2017/07/main/ice-cream-cones.jpg?itok=9I9Q7gKA\n",
            "[%] File Downloaded !\n",
            "\n",
            "[%] Downloading Image #17 from http://www.imagineoutloud.net/uploads/3/9/7/7/39773846/s432273583225059501_p963_i29_w2560.jpeg\n",
            "[%] File Downloaded !\n",
            "\n",
            "[%] Downloading Image #18 from http://www.imagineoutloud.net/uploads/3/9/7/7/39773846/s432273583225059501_p949_i14_w640.jpeg\n",
            "[%] File Downloaded !\n",
            "\n",
            "[%] Downloading Image #19 from http://img0.etsystatic.com/015/0/5205551/il_570xN.427294972_4pjm.jpg\n",
            "[%] File Downloaded !\n",
            "\n",
            "[%] Downloading Image #20 from http://cdn2.tikkido.com/sites/default/files/patriotic-ice-cream-cones-complete.jpg\n",
            "[%] File Downloaded !\n",
            "\n",
            "[%] Downloading Image #21 from https://i.pinimg.com/originals/ac/cd/a9/accda9fedc34771b332db5626406d234.jpg\n",
            "[%] File Downloaded !\n",
            "\n",
            "[%] Downloading Image #22 from http://www.carvelbrentwood.com/images/Straw Hand Dip Cone.jpg\n",
            "[!] Issue getting: http://www.carvelbrentwood.com/images/Straw Hand Dip Cone.jpg\n",
            "[!] Error:: URL can't contain control characters. '/images/Straw Hand Dip Cone.jpg' (found at least ' ')\n",
            "[%] Downloading Image #22 from http://www.thethings.com/wp-content/uploads/2016/05/dscf5161.jpg\n",
            "[%] File Downloaded !\n",
            "\n",
            "[%] Downloading Image #23 from https://www.sheetalicecream.com/wp-content/themes/sheetal/images/cones/American-Nuts.png\n",
            "[%] File Downloaded !\n",
            "\n",
            "[%] Downloading Image #24 from http://upload.wikimedia.org/wikipedia/commons/d/da/Strawberry_ice_cream_cone_(5076899310).jpg\n",
            "[%] File Downloaded !\n",
            "\n",
            "[%] Downloading Image #25 from http://www.koshericecream.com/wp-content/uploads/magictoolbox_cache/640ca855e591fa5c6759d336b1ca786b/original/2118662499/41404-24-Pk-Nutty-Cone-D-UPC-0-91404-21150-5.jpg\n",
            "[%] File Downloaded !\n",
            "\n",
            "[%] Downloading Image #26 from https://i.pinimg.com/originals/ce/f5/94/cef5942a7b71141a834a66a249e0df81.jpg\n",
            "[%] File Downloaded !\n",
            "\n",
            "[%] Downloading Image #27 from http://www.thethings.com/wp-content/uploads/2016/05/RiceKrispiesTreatCone.jpg\n",
            "[%] File Downloaded !\n",
            "\n",
            "[%] Downloading Image #28 from https://4.bp.blogspot.com/_PwZSwOCo6G4/TBbo63OwCDI/AAAAAAAAAYE/ZefQZ6NzwKw/s1600/IMG_3465.JPG\n",
            "[%] File Downloaded !\n",
            "\n",
            "[%] Downloading Image #29 from https://i.pinimg.com/originals/a6/3a/3c/a63a3c88d69d061ffde63ad4a7cc76af.jpg\n",
            "[%] File Downloaded !\n",
            "\n",
            "\n",
            "\n",
            "[!!]Indexing page: 2\n",
            "\n",
            "[%] Indexed 35 Images on Page 2.\n",
            "\n",
            "===============================================\n",
            "\n",
            "[%] Downloading Image #30 from http://graphics8.nytimes.com/images/2013/06/02/magazine/02wmt/02wmt-superJumbo-v3.jpg\n",
            "[%] File Downloaded !\n",
            "\n",
            "\n",
            "\n",
            "[%] Done. Downloaded 30 images.\n",
            "===============================================\n",
            "\n",
            "Please show your support here\n",
            "https://www.buymeacoffee.com/gurugaurav\n",
            "\n",
            "===============================================\n",
            "\n",
            "[%] Downloading Images to /content/Classification_Images/cute puppy\n",
            "\n",
            "\n",
            "[!!]Indexing page: 1\n",
            "\n",
            "[%] Indexed 30 Images on Page 1.\n",
            "\n",
            "===============================================\n",
            "\n",
            "[%] Downloading Image #1 from https://i.pinimg.com/originals/23/e3/d5/23e3d5fd300541d900e41d739977ccfa.jpg\n",
            "[%] File Downloaded !\n",
            "\n",
            "[%] Downloading Image #2 from https://i.pinimg.com/originals/c6/b2/e6/c6b2e69c7a31518cd760f5bfab302196.jpg\n",
            "[%] File Downloaded !\n",
            "\n",
            "[%] Downloading Image #3 from https://i.pinimg.com/736x/f4/d8/c4/f4d8c4d137b74631892cdab39469185a.jpg\n",
            "[%] File Downloaded !\n",
            "\n",
            "[%] Downloading Image #4 from https://i.pinimg.com/originals/51/26/81/512681bc561d4a70efbb5d100e98c768.jpg\n",
            "[%] File Downloaded !\n",
            "\n",
            "[%] Downloading Image #5 from https://i.pinimg.com/736x/1c/86/e6/1c86e6372efbd50d1eb1fbc2688d8caa.jpg\n",
            "[%] File Downloaded !\n",
            "\n",
            "[%] Downloading Image #6 from https://i.pinimg.com/originals/30/ad/fc/30adfcba0cd2ba10354786ab47e9f0ea.jpg\n",
            "[%] File Downloaded !\n",
            "\n",
            "[%] Downloading Image #7 from https://i.pinimg.com/originals/3c/ac/ed/3caced86307dc5ca1b903fe0edb1fbe3.jpg\n",
            "[%] File Downloaded !\n",
            "\n",
            "[%] Downloading Image #8 from https://i.pinimg.com/originals/82/3e/04/823e04bdb0d23ae787ade4a9cd7f713d.jpg\n",
            "[%] File Downloaded !\n",
            "\n",
            "[%] Downloading Image #9 from https://i.pinimg.com/originals/7f/5d/96/7f5d962b0ec80aa9678609bc59c9a465.jpg\n",
            "[%] File Downloaded !\n",
            "\n",
            "[%] Downloading Image #10 from https://i.pinimg.com/originals/f4/50/3c/f4503c05d0c16cd442b1a0d6c4b9e370.jpg\n",
            "[%] File Downloaded !\n",
            "\n",
            "[%] Downloading Image #11 from https://travelsandliving.com/wp-content/uploads/2015/12/cutest-puppies-of-2015-Bernese-mountain-puppy.jpg\n",
            "[%] File Downloaded !\n",
            "\n",
            "[%] Downloading Image #12 from https://i.pinimg.com/736x/78/bf/12/78bf126d10bcb0ebc897bea54cc96e89--cutest-dogs-the-cutest.jpg\n",
            "[%] File Downloaded !\n",
            "\n",
            "[%] Downloading Image #13 from https://i.pinimg.com/1200x/93/10/ca/9310ca92a639c5394a3d53a61a8f45c9.jpg\n",
            "[%] File Downloaded !\n",
            "\n",
            "[%] Downloading Image #14 from https://i.pinimg.com/originals/86/da/c6/86dac619d80c610ed73e6b5e9fd5780b.jpg\n",
            "[%] File Downloaded !\n",
            "\n",
            "[%] Downloading Image #15 from https://i.pinimg.com/originals/8c/82/0e/8c820e4b8c1c0b1a91f60c67f88f6be2.jpg\n",
            "[%] File Downloaded !\n",
            "\n",
            "[%] Downloading Image #16 from https://i.pinimg.com/736x/03/6f/62/036f62791233d04b4cff3b1e83643ec6.jpg\n",
            "[%] File Downloaded !\n",
            "\n",
            "[%] Downloading Image #17 from https://i.pinimg.com/originals/37/69/c6/3769c6a8e75a36084819d1a918ab76f8.jpg\n",
            "[%] File Downloaded !\n",
            "\n",
            "[%] Downloading Image #18 from https://i.pinimg.com/originals/eb/e8/09/ebe8091b81e3761d2664d783e4cb1882.jpg\n",
            "[%] File Downloaded !\n",
            "\n",
            "[%] Downloading Image #19 from https://i.pinimg.com/originals/e6/cb/09/e6cb099e013c55d10c46c0da9f9e3a61.jpg\n",
            "[%] File Downloaded !\n",
            "\n",
            "[%] Downloading Image #20 from https://i.pinimg.com/originals/a2/6c/85/a26c85510bdd32d6f0502121a031f894.png\n",
            "[%] File Downloaded !\n",
            "\n",
            "[%] Downloading Image #21 from https://i.pinimg.com/originals/ba/cc/18/bacc18f1049f2ba883f61928fcfbb379.png\n",
            "[%] File Downloaded !\n",
            "\n",
            "[%] Downloading Image #22 from https://i.pinimg.com/originals/77/e9/fd/77e9fde759e15a67bf583c29fcb517d5.jpg\n",
            "[%] File Downloaded !\n",
            "\n",
            "[%] Downloading Image #23 from https://i.pinimg.com/originals/23/1b/4e/231b4eb1efdfd566418ceb94112c2e1a.jpg\n",
            "[%] File Downloaded !\n",
            "\n",
            "[%] Downloading Image #24 from https://i.pinimg.com/originals/ba/40/97/ba409773f5aff3de6c392028613effed.jpg\n",
            "[%] File Downloaded !\n",
            "\n",
            "[%] Downloading Image #25 from https://i.pinimg.com/originals/de/b0/f2/deb0f242680b2293540712b34910d554.jpg\n",
            "[%] File Downloaded !\n",
            "\n",
            "[%] Downloading Image #26 from https://i.pinimg.com/736x/d6/06/ff/d606ff34f902e9c14578175de2cbc1d2.jpg\n",
            "[%] File Downloaded !\n",
            "\n",
            "[%] Downloading Image #27 from https://i.pinimg.com/originals/54/c9/0b/54c90b0ee70b697087baf769de5ad704.jpg\n",
            "[%] File Downloaded !\n",
            "\n",
            "[%] Downloading Image #28 from https://i.pinimg.com/736x/cd/94/e8/cd94e82e0a6566f68d3b79d1a0d5e2be.jpg\n",
            "[%] File Downloaded !\n",
            "\n",
            "[%] Downloading Image #29 from https://i.pinimg.com/originals/bc/5f/84/bc5f84302f5312a5d23ea6bfe6de47bd.png\n",
            "[%] File Downloaded !\n",
            "\n",
            "[%] Downloading Image #30 from https://i.pinimg.com/originals/c3/5b/4d/c35b4d30ed47495d75ea71106100717a.jpg\n",
            "[%] File Downloaded !\n",
            "\n",
            "\n",
            "\n",
            "[%] Done. Downloaded 30 images.\n",
            "===============================================\n",
            "\n",
            "Please show your support here\n",
            "https://www.buymeacoffee.com/gurugaurav\n",
            "\n",
            "===============================================\n",
            "\n",
            "[%] Downloading Images to /content/Classification_Images/red rose\n",
            "\n",
            "\n",
            "[!!]Indexing page: 1\n",
            "\n",
            "[%] Indexed 30 Images on Page 1.\n",
            "\n",
            "===============================================\n",
            "\n",
            "[%] Downloading Image #1 from https://res.cloudinary.com/bloomnation/c_pad,d_vendor:global:catalog:product:image.png,f_auto,fl_preserve_transparency,q_auto/v1550550570/vendor/2961/catalog/product/2/0/20150124123713_file_54c391f9051a6.jpg\n",
            "[%] File Downloaded !\n",
            "\n",
            "[%] Downloading Image #2 from https://cdn11.bigcommerce.com/s-jxetu2nhyu/images/stencil/1280x1280/products/613/1434/20-V4S__90137.1579117758.jpg?c=2\n",
            "[%] File Downloaded !\n",
            "\n",
            "[%] Downloading Image #3 from https://i1.wp.com/entertainmentmesh.com/wp-content/uploads/2017/01/Red-roses.jpg\n",
            "[%] File Downloaded !\n",
            "\n",
            "[%] Downloading Image #4 from https://lindasflowers.com/wp-content/uploads/2019/12/20-v4p.jpg\n",
            "[%] File Downloaded !\n",
            "\n",
            "[%] Downloading Image #5 from https://asset.bloomnation.com/c_pad,d_vendor:global:catalog:product:image.png,f_auto,fl_preserve_transparency,q_auto/v1579055825/vendor/4960/catalog/product/2/0/20200110054813_file_5e18b8dd60087_5e18b92b68d0b_5e1e0a4e37043_5e1e0a4fee5d9.jpg\n",
            "[%] File Downloaded !\n",
            "\n",
            "[%] Downloading Image #6 from https://cdn.shopify.com/s/files/1/0012/4832/9781/products/50_red_roses.jpg?v=1566932952\n",
            "[%] File Downloaded !\n",
            "\n",
            "[%] Downloading Image #7 from https://cdn.shopify.com/s/files/1/2520/3892/products/WeChat_Image_20190122221148_530x@2x.jpg?v=1556692226\n",
            "[%] File Downloaded !\n",
            "\n",
            "[%] Downloading Image #8 from https://asset.bloomnation.com/c_limit,d_vendor:global:catalog:product:image.png,f_auto,fl_preserve_transparency,q_auto/v1597548691/vendor/1410/catalog/product/2/0/20190814054220_file_5d539f3ca34ee_5d539f4a407df.jpeg\n",
            "[%] File Downloaded !\n",
            "\n",
            "[%] Downloading Image #9 from https://i.pinimg.com/originals/88/c2/a5/88c2a53b01f776685e0febd2aed97d18.jpg\n",
            "[%] File Downloaded !\n",
            "\n",
            "[%] Downloading Image #10 from https://asset.bloomnation.com/c_pad,d_vendor:global:catalog:product:image.png,f_auto,fl_preserve_transparency,q_auto/v1599308720/vendor/6617/catalog/product/2/0/20180705044125_file_5b3e4a3572d33.jpg\n",
            "[%] File Downloaded !\n",
            "\n",
            "[%] Downloading Image #11 from https://www.floralbash.ca/wp-content/uploads/2018/01/AdobeStock_88501905.jpeg\n",
            "[%] File Downloaded !\n",
            "\n",
            "[%] Downloading Image #12 from https://cdn.shopify.com/s/files/1/0012/4832/9781/products/50_red_roses_1.jpg?v=1566933976\n",
            "[%] File Downloaded !\n",
            "\n",
            "[%] Downloading Image #13 from https://i.pinimg.com/originals/b7/33/e0/b733e0b36236ef31820b19b59219ee0a.jpg\n",
            "[%] File Downloaded !\n",
            "\n",
            "[%] Downloading Image #14 from https://i.pinimg.com/originals/c5/c8/d5/c5c8d597968fff866e6189c3c12f64b2.jpg\n",
            "[%] File Downloaded !\n",
            "\n",
            "[%] Downloading Image #15 from https://live.staticflickr.com/8069/8193364735_d95e5db33b_b.jpg\n",
            "[%] File Downloaded !\n",
            "\n",
            "[%] Downloading Image #16 from https://i.pinimg.com/originals/86/16/55/861655a1a568b8fb600a7374c0644a50.jpg\n",
            "[%] File Downloaded !\n",
            "\n",
            "[%] Downloading Image #17 from http://farm5.staticflickr.com/4017/5151909013_44700dd42a_z.jpg\n",
            "[%] File Downloaded !\n",
            "\n",
            "[%] Downloading Image #18 from https://angkorflowers.com.au/wp-content/uploads/2021/02/True-love12-premium-red-roses-VA12-H.jpg\n",
            "[%] File Downloaded !\n",
            "\n",
            "[%] Downloading Image #19 from https://live.staticflickr.com/7587/16739669608_23d1c13f1a_b.jpg\n",
            "[%] File Downloaded !\n",
            "\n",
            "[%] Downloading Image #20 from https://i.pinimg.com/originals/08/f2/39/08f2395d70c98ad387783922776c87b1.jpg\n",
            "[%] File Downloaded !\n",
            "\n",
            "[%] Downloading Image #21 from https://i.pinimg.com/originals/4f/25/08/4f2508f998ec187ee62e6c27ecc2ed2c.jpg\n",
            "[%] File Downloaded !\n",
            "\n",
            "[%] Downloading Image #22 from https://chantalfleuriste.com/wp-content/uploads/2020/01/20-V4D.jpeg\n",
            "[%] File Downloaded !\n",
            "\n",
            "[%] Downloading Image #23 from https://3.bp.blogspot.com/-jnI14eC3t_Q/TiRb8ROSvVI/AAAAAAAAArg/h77ps7Ugpq0/s400/red-rose_11078.jpg\n",
            "[%] File Downloaded !\n",
            "\n",
            "[%] Downloading Image #24 from https://i.pinimg.com/originals/3d/de/e2/3ddee24ef80cf1fce58777d8f145100a.jpg\n",
            "[%] File Downloaded !\n",
            "\n",
            "[%] Downloading Image #25 from https://i.pinimg.com/originals/21/da/e8/21dae863251cdfdaf1abd0b523531a43.jpg\n",
            "[%] File Downloaded !\n",
            "\n",
            "[%] Downloading Image #26 from https://i.pinimg.com/originals/63/2e/1e/632e1e35a49f83c0e0e8a8d0d160c3fb.jpg\n",
            "[%] File Downloaded !\n",
            "\n",
            "[%] Downloading Image #27 from https://asset.bloomnation.com/c_limit,d_vendor:global:catalog:product:image.png,f_auto,fl_preserve_transparency,q_auto/v1535581277/vendor/320/catalog/product/2/0/20170406012316_file_58e64144dd21f.jpg\n",
            "[%] File Downloaded !\n",
            "\n",
            "[%] Downloading Image #28 from https://i.pinimg.com/originals/c3/eb/f4/c3ebf4ce92e34d0f260675b025746555.jpg\n",
            "[%] File Downloaded !\n",
            "\n",
            "[%] Downloading Image #29 from https://i.pinimg.com/originals/3b/3b/15/3b3b152ac8b643a5bc26c0773646f8ff.jpg\n",
            "[%] File Downloaded !\n",
            "\n",
            "[%] Downloading Image #30 from https://cdn.shopify.com/s/files/1/0012/4832/9781/products/ROSE-BACKGROUND-1_efab065f-10f3-45c2-ad8d-0aadcd857e7d.jpg?v=1531965806\n",
            "[%] File Downloaded !\n",
            "\n",
            "\n",
            "\n",
            "[%] Done. Downloaded 30 images.\n",
            "===============================================\n",
            "\n",
            "Please show your support here\n",
            "https://www.buymeacoffee.com/gurugaurav\n",
            "\n",
            "===============================================\n",
            "\n"
          ],
          "name": "stdout"
        }
      ]
    },
    {
      "cell_type": "code",
      "metadata": {
        "id": "B6sP8V2N1pX4"
      },
      "source": [
        "import shutil\n",
        "shutil.make_archive('Classification_Images', 'zip', 'Classification_Images')\n",
        "!pip freeze > requirements.txt\n"
      ],
      "execution_count": null,
      "outputs": []
    },
    {
      "cell_type": "code",
      "metadata": {
        "colab": {
          "base_uri": "https://localhost:8080/"
        },
        "id": "WcthRZHE140y",
        "outputId": "bc108304-9661-496a-d2f3-eba50120b42c"
      },
      "source": [
        "import os\n",
        "import pandas as pd\n",
        "import matplotlib.pyplot as plt\n",
        "import numpy as np\n",
        "from skimage.io import imread\n",
        "from skimage.transform import resize\n",
        "from skimage.color import rgb2gray\n",
        "\n",
        "target = []\n",
        "flat_data = []\n",
        "images = []\n",
        "DataDirectory = '/content/Classification_Images'\n",
        "\n",
        "# Images to be classified as:\n",
        "Categories = [\"cute puppy\",\"icecream cone\",\"red rose\"]\n",
        "\n",
        "for i in Categories:\n",
        "  print(\"Category is:\",i,\"\\tLabel encoded as:\",Categories.index(i))\n",
        "  # Encode categories cute puppy as 0, icecream cone as 1 and red rose as 2\n",
        "  target_class = Categories.index(i)\n",
        "  # Create data path for all folders under MinorProject\n",
        "  path = os.path.join(DataDirectory,i)\n",
        "  # Image resizing, to ensure all images are of same dimensions\n",
        "  for img in os.listdir(path):\n",
        "    img_array = imread(os.path.join(path,img))\n",
        "    # Skimage normalizes the value of image\n",
        "    img_resized = resize(img_array,(150,150,3))\n",
        "    flat_data.append(img_resized.flatten())\n",
        "    images.append(img_resized)\n",
        "    target.append(target_class)\n",
        "# Convert list to numpy array format\n",
        "flat_data = np.array(flat_data)\n",
        "images = np.array(images)\n",
        "target = np.array(target)"
      ],
      "execution_count": null,
      "outputs": [
        {
          "output_type": "stream",
          "text": [
            "Category is: cute puppy \tLabel encoded as: 0\n",
            "Category is: icecream cone \tLabel encoded as: 1\n",
            "Category is: red rose \tLabel encoded as: 2\n"
          ],
          "name": "stdout"
        }
      ]
    },
    {
      "cell_type": "code",
      "metadata": {
        "colab": {
          "base_uri": "https://localhost:8080/"
        },
        "id": "k6f5tF4F2R0x",
        "outputId": "348e090c-2308-45bb-fc6f-bcb3789f637c"
      },
      "source": [
        "df = pd.DataFrame(flat_data)\n",
        "df['Target'] = target\n",
        "\n",
        "from sklearn.model_selection import train_test_split\n",
        "x = df.iloc[:,:-1].values\n",
        "y = target\n",
        "print(\"Input data dimensions:\",x.shape)\n",
        "print(\"Output data dimensions:\",y.shape)\n",
        "x_train,x_test,y_train,y_test = train_test_split(x,y,shuffle=True,test_size = 0.3,random_state=109,stratify=y)\n",
        "print(\"Dimensions of input training data:\",x_train.shape)\n",
        "print(\"Dimensions of input testing data:\",x_test.shape)\n",
        "print(\"Dimensions of output training data:\",y_train.shape)\n",
        "print(\"Dimensions of output testing data:\",y_test.shape)"
      ],
      "execution_count": null,
      "outputs": [
        {
          "output_type": "stream",
          "text": [
            "Input data dimensions: (90, 67500)\n",
            "Output data dimensions: (90,)\n",
            "Dimensions of input training data: (63, 67500)\n",
            "Dimensions of input testing data: (27, 67500)\n",
            "Dimensions of output training data: (63,)\n",
            "Dimensions of output testing data: (27,)\n"
          ],
          "name": "stdout"
        }
      ]
    },
    {
      "cell_type": "code",
      "metadata": {
        "colab": {
          "base_uri": "https://localhost:8080/"
        },
        "id": "xAlkqDy62oWG",
        "outputId": "bd09d63e-dd08-44dc-9d40-c39bdf877cdc"
      },
      "source": [
        "print(\"Labels\\t\\t   Image index considered\")\n",
        "print(np.unique(y_train,return_counts=True))\n",
        "print(np.unique(y_test,return_counts=True))"
      ],
      "execution_count": null,
      "outputs": [
        {
          "output_type": "stream",
          "text": [
            "Labels\t\t   Image index considered\n",
            "(array([0, 1, 2]), array([21, 21, 21]))\n",
            "(array([0, 1, 2]), array([9, 9, 9]))\n"
          ],
          "name": "stdout"
        }
      ]
    },
    {
      "cell_type": "code",
      "metadata": {
        "colab": {
          "base_uri": "https://localhost:8080/"
        },
        "id": "46VMje9j2srQ",
        "outputId": "258f0fb1-9a51-4d13-9b4d-74a3af47c7fc"
      },
      "source": [
        "from sklearn.model_selection import GridSearchCV\n",
        "from sklearn.svm import SVC\n",
        "tuned_parameters = [{'kernel': ['rbf'], 'gamma': [1e-3, 1e-4],\n",
        "                     'C': [1, 10, 100, 1000]}]\n",
        "\n",
        "cv = GridSearchCV(SVC(), tuned_parameters, refit = True,verbose= 3) \n",
        "cv.fit(x_train,y_train)\n"
      ],
      "execution_count": null,
      "outputs": [
        {
          "output_type": "stream",
          "text": [
            "Fitting 5 folds for each of 8 candidates, totalling 40 fits\n",
            "[CV] C=1, gamma=0.001, kernel=rbf ....................................\n"
          ],
          "name": "stdout"
        },
        {
          "output_type": "stream",
          "text": [
            "[Parallel(n_jobs=1)]: Using backend SequentialBackend with 1 concurrent workers.\n"
          ],
          "name": "stderr"
        },
        {
          "output_type": "stream",
          "text": [
            "[CV] ........ C=1, gamma=0.001, kernel=rbf, score=0.538, total=   0.5s\n",
            "[CV] C=1, gamma=0.001, kernel=rbf ....................................\n"
          ],
          "name": "stdout"
        },
        {
          "output_type": "stream",
          "text": [
            "[Parallel(n_jobs=1)]: Done   1 out of   1 | elapsed:    0.5s remaining:    0.0s\n"
          ],
          "name": "stderr"
        },
        {
          "output_type": "stream",
          "text": [
            "[CV] ........ C=1, gamma=0.001, kernel=rbf, score=0.462, total=   0.5s\n",
            "[CV] C=1, gamma=0.001, kernel=rbf ....................................\n"
          ],
          "name": "stdout"
        },
        {
          "output_type": "stream",
          "text": [
            "[Parallel(n_jobs=1)]: Done   2 out of   2 | elapsed:    1.1s remaining:    0.0s\n"
          ],
          "name": "stderr"
        },
        {
          "output_type": "stream",
          "text": [
            "[CV] ........ C=1, gamma=0.001, kernel=rbf, score=0.462, total=   0.5s\n",
            "[CV] C=1, gamma=0.001, kernel=rbf ....................................\n",
            "[CV] ........ C=1, gamma=0.001, kernel=rbf, score=0.667, total=   0.5s\n",
            "[CV] C=1, gamma=0.001, kernel=rbf ....................................\n",
            "[CV] ........ C=1, gamma=0.001, kernel=rbf, score=0.750, total=   0.5s\n",
            "[CV] C=1, gamma=0.0001, kernel=rbf ...................................\n",
            "[CV] ....... C=1, gamma=0.0001, kernel=rbf, score=0.615, total=   0.5s\n",
            "[CV] C=1, gamma=0.0001, kernel=rbf ...................................\n",
            "[CV] ....... C=1, gamma=0.0001, kernel=rbf, score=0.462, total=   0.5s\n",
            "[CV] C=1, gamma=0.0001, kernel=rbf ...................................\n",
            "[CV] ....... C=1, gamma=0.0001, kernel=rbf, score=0.692, total=   0.5s\n",
            "[CV] C=1, gamma=0.0001, kernel=rbf ...................................\n",
            "[CV] ....... C=1, gamma=0.0001, kernel=rbf, score=0.667, total=   0.5s\n",
            "[CV] C=1, gamma=0.0001, kernel=rbf ...................................\n",
            "[CV] ....... C=1, gamma=0.0001, kernel=rbf, score=0.750, total=   0.5s\n",
            "[CV] C=10, gamma=0.001, kernel=rbf ...................................\n",
            "[CV] ....... C=10, gamma=0.001, kernel=rbf, score=0.615, total=   0.5s\n",
            "[CV] C=10, gamma=0.001, kernel=rbf ...................................\n",
            "[CV] ....... C=10, gamma=0.001, kernel=rbf, score=0.462, total=   0.5s\n",
            "[CV] C=10, gamma=0.001, kernel=rbf ...................................\n",
            "[CV] ....... C=10, gamma=0.001, kernel=rbf, score=0.462, total=   0.5s\n",
            "[CV] C=10, gamma=0.001, kernel=rbf ...................................\n",
            "[CV] ....... C=10, gamma=0.001, kernel=rbf, score=0.667, total=   0.5s\n",
            "[CV] C=10, gamma=0.001, kernel=rbf ...................................\n",
            "[CV] ....... C=10, gamma=0.001, kernel=rbf, score=0.750, total=   0.5s\n",
            "[CV] C=10, gamma=0.0001, kernel=rbf ..................................\n",
            "[CV] ...... C=10, gamma=0.0001, kernel=rbf, score=0.846, total=   0.5s\n",
            "[CV] C=10, gamma=0.0001, kernel=rbf ..................................\n",
            "[CV] ...... C=10, gamma=0.0001, kernel=rbf, score=0.462, total=   0.5s\n",
            "[CV] C=10, gamma=0.0001, kernel=rbf ..................................\n",
            "[CV] ...... C=10, gamma=0.0001, kernel=rbf, score=0.846, total=   0.5s\n",
            "[CV] C=10, gamma=0.0001, kernel=rbf ..................................\n",
            "[CV] ...... C=10, gamma=0.0001, kernel=rbf, score=0.667, total=   0.5s\n",
            "[CV] C=10, gamma=0.0001, kernel=rbf ..................................\n",
            "[CV] ...... C=10, gamma=0.0001, kernel=rbf, score=0.750, total=   0.5s\n",
            "[CV] C=100, gamma=0.001, kernel=rbf ..................................\n",
            "[CV] ...... C=100, gamma=0.001, kernel=rbf, score=0.615, total=   0.5s\n",
            "[CV] C=100, gamma=0.001, kernel=rbf ..................................\n",
            "[CV] ...... C=100, gamma=0.001, kernel=rbf, score=0.462, total=   0.5s\n",
            "[CV] C=100, gamma=0.001, kernel=rbf ..................................\n",
            "[CV] ...... C=100, gamma=0.001, kernel=rbf, score=0.462, total=   0.5s\n",
            "[CV] C=100, gamma=0.001, kernel=rbf ..................................\n",
            "[CV] ...... C=100, gamma=0.001, kernel=rbf, score=0.667, total=   0.5s\n",
            "[CV] C=100, gamma=0.001, kernel=rbf ..................................\n",
            "[CV] ...... C=100, gamma=0.001, kernel=rbf, score=0.750, total=   0.6s\n",
            "[CV] C=100, gamma=0.0001, kernel=rbf .................................\n",
            "[CV] ..... C=100, gamma=0.0001, kernel=rbf, score=0.846, total=   0.5s\n",
            "[CV] C=100, gamma=0.0001, kernel=rbf .................................\n",
            "[CV] ..... C=100, gamma=0.0001, kernel=rbf, score=0.462, total=   0.5s\n",
            "[CV] C=100, gamma=0.0001, kernel=rbf .................................\n",
            "[CV] ..... C=100, gamma=0.0001, kernel=rbf, score=0.846, total=   0.5s\n",
            "[CV] C=100, gamma=0.0001, kernel=rbf .................................\n",
            "[CV] ..... C=100, gamma=0.0001, kernel=rbf, score=0.667, total=   0.5s\n",
            "[CV] C=100, gamma=0.0001, kernel=rbf .................................\n",
            "[CV] ..... C=100, gamma=0.0001, kernel=rbf, score=0.750, total=   0.5s\n",
            "[CV] C=1000, gamma=0.001, kernel=rbf .................................\n",
            "[CV] ..... C=1000, gamma=0.001, kernel=rbf, score=0.615, total=   0.5s\n",
            "[CV] C=1000, gamma=0.001, kernel=rbf .................................\n",
            "[CV] ..... C=1000, gamma=0.001, kernel=rbf, score=0.462, total=   0.5s\n",
            "[CV] C=1000, gamma=0.001, kernel=rbf .................................\n",
            "[CV] ..... C=1000, gamma=0.001, kernel=rbf, score=0.462, total=   0.5s\n",
            "[CV] C=1000, gamma=0.001, kernel=rbf .................................\n",
            "[CV] ..... C=1000, gamma=0.001, kernel=rbf, score=0.667, total=   0.5s\n",
            "[CV] C=1000, gamma=0.001, kernel=rbf .................................\n",
            "[CV] ..... C=1000, gamma=0.001, kernel=rbf, score=0.750, total=   0.5s\n",
            "[CV] C=1000, gamma=0.0001, kernel=rbf ................................\n",
            "[CV] .... C=1000, gamma=0.0001, kernel=rbf, score=0.846, total=   0.5s\n",
            "[CV] C=1000, gamma=0.0001, kernel=rbf ................................\n",
            "[CV] .... C=1000, gamma=0.0001, kernel=rbf, score=0.462, total=   0.5s\n",
            "[CV] C=1000, gamma=0.0001, kernel=rbf ................................\n",
            "[CV] .... C=1000, gamma=0.0001, kernel=rbf, score=0.846, total=   0.5s\n",
            "[CV] C=1000, gamma=0.0001, kernel=rbf ................................\n",
            "[CV] .... C=1000, gamma=0.0001, kernel=rbf, score=0.667, total=   0.5s\n",
            "[CV] C=1000, gamma=0.0001, kernel=rbf ................................\n",
            "[CV] .... C=1000, gamma=0.0001, kernel=rbf, score=0.750, total=   0.5s\n"
          ],
          "name": "stdout"
        },
        {
          "output_type": "stream",
          "text": [
            "[Parallel(n_jobs=1)]: Done  40 out of  40 | elapsed:   20.8s finished\n"
          ],
          "name": "stderr"
        },
        {
          "output_type": "execute_result",
          "data": {
            "text/plain": [
              "GridSearchCV(cv=None, error_score=nan,\n",
              "             estimator=SVC(C=1.0, break_ties=False, cache_size=200,\n",
              "                           class_weight=None, coef0=0.0,\n",
              "                           decision_function_shape='ovr', degree=3,\n",
              "                           gamma='scale', kernel='rbf', max_iter=-1,\n",
              "                           probability=False, random_state=None, shrinking=True,\n",
              "                           tol=0.001, verbose=False),\n",
              "             iid='deprecated', n_jobs=None,\n",
              "             param_grid=[{'C': [1, 10, 100, 1000], 'gamma': [0.001, 0.0001],\n",
              "                          'kernel': ['rbf']}],\n",
              "             pre_dispatch='2*n_jobs', refit=True, return_train_score=False,\n",
              "             scoring=None, verbose=3)"
            ]
          },
          "metadata": {
            "tags": []
          },
          "execution_count": 8
        }
      ]
    },
    {
      "cell_type": "code",
      "metadata": {
        "colab": {
          "base_uri": "https://localhost:8080/"
        },
        "id": "gPMLR3g726iU",
        "outputId": "c0bfcf5a-0d26-4d7c-a63c-c19f676efc37"
      },
      "source": [
        "print(\"Best parameters to apply are:\",cv.best_params_)\n",
        "svm = cv.best_estimator_\n",
        "print(\"Model after tuning is:\\n\",svm)\n",
        "y_prediction = svm.predict(x_test)\n",
        "print(\"Expected results: \",y_test)\n",
        "print(\"Predicted results:\",y_prediction)"
      ],
      "execution_count": null,
      "outputs": [
        {
          "output_type": "stream",
          "text": [
            "Best parameters to apply are: {'C': 10, 'gamma': 0.0001, 'kernel': 'rbf'}\n",
            "Model after tuning is:\n",
            " SVC(C=10, break_ties=False, cache_size=200, class_weight=None, coef0=0.0,\n",
            "    decision_function_shape='ovr', degree=3, gamma=0.0001, kernel='rbf',\n",
            "    max_iter=-1, probability=False, random_state=None, shrinking=True,\n",
            "    tol=0.001, verbose=False)\n",
            "Expected results:  [1 2 1 0 1 0 0 0 0 1 1 0 0 2 1 2 2 0 1 1 1 0 2 2 2 2 2]\n",
            "Predicted results: [2 2 1 0 2 0 0 0 1 0 1 0 0 2 0 1 2 0 1 1 0 1 2 2 2 2 2]\n"
          ],
          "name": "stdout"
        }
      ]
    },
    {
      "cell_type": "code",
      "metadata": {
        "colab": {
          "base_uri": "https://localhost:8080/"
        },
        "id": "yIs1e5K03KYI",
        "outputId": "2f7d5146-15b9-4ffc-c280-9684c9b713a5"
      },
      "source": [
        "from sklearn.metrics import confusion_matrix,classification_report,accuracy_score\n",
        "\n",
        "print(\"Confusion matrix results:\\n\",confusion_matrix(y_prediction,y_test))\n",
        "print(\"\\nClassification report of model:\\n\",classification_report(y_prediction,y_test))\n",
        "print(\"Accuracy score:\",100*accuracy_score(y_prediction,y_test))\n"
      ],
      "execution_count": null,
      "outputs": [
        {
          "output_type": "stream",
          "text": [
            "Confusion matrix results:\n",
            " [[7 3 0]\n",
            " [2 4 1]\n",
            " [0 2 8]]\n",
            "\n",
            "Classification report of model:\n",
            "               precision    recall  f1-score   support\n",
            "\n",
            "           0       0.78      0.70      0.74        10\n",
            "           1       0.44      0.57      0.50         7\n",
            "           2       0.89      0.80      0.84        10\n",
            "\n",
            "    accuracy                           0.70        27\n",
            "   macro avg       0.70      0.69      0.69        27\n",
            "weighted avg       0.73      0.70      0.71        27\n",
            "\n",
            "Accuracy score: 70.37037037037037\n"
          ],
          "name": "stdout"
        }
      ]
    },
    {
      "cell_type": "code",
      "metadata": {
        "id": "WS7CgCDf3QFC"
      },
      "source": [
        "import pickle\n",
        "pickle.dump(svm,open(\"Classification_Model.p\",\"wb\"))\n",
        "\n",
        "test_model = pickle.load(open(\"Classification_Model.p\",\"rb\"))"
      ],
      "execution_count": null,
      "outputs": []
    },
    {
      "cell_type": "code",
      "metadata": {
        "colab": {
          "base_uri": "https://localhost:8080/",
          "height": 319
        },
        "id": "bffpKsXi3Qw5",
        "outputId": "03d55f7d-a34a-4427-ad87-a0f25fdb3a17"
      },
      "source": [
        "flat_data = []\n",
        "url = input ('Enter url of image to test: ')\n",
        "img_array = imread(url)\n",
        "img_resized = resize(img_array,(150,150,3))\n",
        "flat_data.append(img_resized.flatten())\n",
        "flat_data = np.array(flat_data)\n",
        "print(\"Dimensions of original image are:\",img_array.shape)\n",
        "plt.imshow(img_resized)\n",
        "y_output = test_model.predict(flat_data)\n",
        "y_output = Categories[y_output[0]]\n",
        "print(\"PREDICTED OUTPUT IS:\",y_output)"
      ],
      "execution_count": null,
      "outputs": [
        {
          "output_type": "stream",
          "text": [
            "Enter url of image to test: https://d99i6ad9lbm5v.cloudfront.net/uploads/image/file/10958/yellow-4992183_1920.jpg\n",
            "Dimensions of original image are: (1280, 1920, 3)\n",
            "PREDICTED OUTPUT IS: cute puppy\n"
          ],
          "name": "stdout"
        },
        {
          "output_type": "display_data",
          "data": {
            "image/png": "[encoded data removed]",
            "text/plain": [
              "<Figure size 432x288 with 1 Axes>"
            ]
          },
          "metadata": {
            "tags": [],
            "needs_background": "light"
          }
        }
      ]
    }
  ]
}